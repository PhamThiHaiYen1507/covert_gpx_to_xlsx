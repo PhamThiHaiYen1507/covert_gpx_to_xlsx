{
 "cells": [
  {
   "cell_type": "code",
   "execution_count": 11,
   "metadata": {},
   "outputs": [
    {
     "data": {
      "application/vnd.jupyter.widget-view+json": {
       "model_id": "5bb04f0800d54c81a76daeaaf84e6ace",
       "version_major": 2,
       "version_minor": 0
      },
      "text/plain": [
       "FileUpload(value=(), accept='.gpx', description='Upload')"
      ]
     },
     "metadata": {},
     "output_type": "display_data"
    },
    {
     "data": {
      "application/vnd.jupyter.widget-view+json": {
       "model_id": "c0e8c74e4166474cbdb53912af9130da",
       "version_major": 2,
       "version_minor": 0
      },
      "text/plain": [
       "Output()"
      ]
     },
     "metadata": {},
     "output_type": "display_data"
    }
   ],
   "source": [
    "import gpxpy\n",
    "import pandas as pd\n",
    "import ipywidgets as widgets\n",
    "from IPython.display import display, FileLink\n",
    "import io\n",
    "import os\n",
    "\n",
    "# Tạo widget cho file upload\n",
    "upload_button = widgets.FileUpload(accept='.gpx', multiple=False)\n",
    "output = widgets.Output()\n",
    "\n",
    "# Hàm xử lý file GPX và xuất ra file Excel\n",
    "def process_gpx_file(change):\n",
    "    output.clear_output()\n",
    "    uploaded_file = upload_button.value\n",
    "    if uploaded_file:\n",
    "        # Lấy file GPX từ widget upload\n",
    "        gpx_file = io.BytesIO(uploaded_file[0]['content'])\n",
    "        gpx = gpxpy.parse(gpx_file)\n",
    "\n",
    "        # Xử lý dữ liệu từ file GPX\n",
    "        data = []\n",
    "        for track in gpx.tracks:\n",
    "            for segment in track.segments:\n",
    "                for point in segment.points:\n",
    "                    heart_rate = None\n",
    "                    if point.extensions:\n",
    "                        for ext in point.extensions:\n",
    "                            hr_element = ext.find('.//{http://www.garmin.com/xmlschemas/TrackPointExtension/v1}hr')\n",
    "                            if hr_element is not None:\n",
    "                                heart_rate = hr_element.text\n",
    "                                break\n",
    "                    time_no_timezone = point.time.replace(tzinfo=None) if point.time else None\n",
    "                    data.append({\n",
    "                        'Latitude': point.latitude,\n",
    "                        'Longitude': point.longitude,\n",
    "                        'Elevation': point.elevation,\n",
    "                        'Time': time_no_timezone,\n",
    "                        'Heart Rate': heart_rate\n",
    "                    })\n",
    "\n",
    "        # Tạo DataFrame và lưu ra file Excel trong thư mục hiện tại\n",
    "        output_filename = 'exported_gpx_data.xlsx'\n",
    "        df = pd.DataFrame(data)\n",
    "        df.to_excel(output_filename, index=False, engine='openpyxl')\n",
    "\n",
    "        # Hiển thị liên kết tải về\n",
    "        with output:\n",
    "            display(FileLink(output_filename, result_html_prefix=\"Tải xuống file Excel: \", result_html_suffix=\".\"))\n",
    "\n",
    "# Kết nối nút tải file với hàm xử lý\n",
    "upload_button.observe(process_gpx_file, names='value')\n",
    "\n",
    "# Hiển thị giao diện\n",
    "display(upload_button, output)\n"
   ]
  },
  {
   "cell_type": "code",
   "execution_count": 2,
   "metadata": {},
   "outputs": [
    {
     "name": "stdout",
     "output_type": "stream",
     "text": [
      "/Users/yenpth2/tool/.venv/bin/python\n"
     ]
    }
   ],
   "source": [
    "import sys\n",
    "print(sys.executable)\n"
   ]
  },
  {
   "cell_type": "code",
   "execution_count": null,
   "metadata": {},
   "outputs": [],
   "source": []
  }
 ],
 "metadata": {
  "kernelspec": {
   "display_name": "Python 3 (ipykernel)",
   "language": "python",
   "name": "python3"
  },
  "language_info": {
   "codemirror_mode": {
    "name": "ipython",
    "version": 3
   },
   "file_extension": ".py",
   "mimetype": "text/x-python",
   "name": "python",
   "nbconvert_exporter": "python",
   "pygments_lexer": "ipython3",
   "version": "3.12.7"
  }
 },
 "nbformat": 4,
 "nbformat_minor": 4
}
